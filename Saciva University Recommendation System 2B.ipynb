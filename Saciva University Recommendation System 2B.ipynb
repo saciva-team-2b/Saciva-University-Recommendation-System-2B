{
  "nbformat": 4,
  "nbformat_minor": 0,
  "metadata": {
    "colab": {
      "provenance": [],
      "include_colab_link": true
    },
    "kernelspec": {
      "name": "python3",
      "display_name": "Python 3"
    },
    "language_info": {
      "name": "python"
    }
  },
  "cells": [
    {
      "cell_type": "markdown",
      "metadata": {
        "id": "view-in-github",
        "colab_type": "text"
      },
      "source": [
        "<a href=\"https://colab.research.google.com/github/wwidjaja0/University-Recommendation-System-2B/blob/main/Saciva%20University%20Recommendation%20System%202B.ipynb\" target=\"_parent\"><img src=\"https://colab.research.google.com/assets/colab-badge.svg\" alt=\"Open In Colab\"/></a>"
      ]
    },
    {
      "cell_type": "markdown",
      "source": [
        "## **Saciva University Recommendation Group B**"
      ],
      "metadata": {
        "id": "diijdWiX_6I6"
      }
    },
    {
      "cell_type": "code",
      "execution_count": null,
      "metadata": {
        "id": "yE6wk-ii8mZK"
      },
      "outputs": [],
      "source": []
    }
  ]
}