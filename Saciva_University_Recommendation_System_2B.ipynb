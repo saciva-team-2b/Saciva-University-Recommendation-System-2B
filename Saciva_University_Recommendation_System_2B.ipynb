{
  "cells": [
    {
      "cell_type": "markdown",
      "metadata": {
        "colab_type": "text",
        "id": "view-in-github"
      },
      "source": [
        "<a href=\"https://colab.research.google.com/github/saciva-team-2b/Saciva-University-Recommendation-System-2B/blob/main/Saciva_University_Recommendation_System_2B.ipynb\" target=\"_parent\"><img src=\"https://colab.research.google.com/assets/colab-badge.svg\" alt=\"Open In Colab\"/></a>"
      ]
    },
    {
      "cell_type": "markdown",
      "metadata": {
        "id": "diijdWiX_6I6"
      },
      "source": [
        "# **Saciva University Recommendation System 2B**"
      ]
    },
    {
      "cell_type": "markdown",
      "metadata": {
        "id": "nqryR7MowCEx"
      },
      "source": [
        "\n",
        "\n",
        "---\n",
        "\n",
        "\n",
        "**Resources and Documents:**  \n",
        "[Trello Board](https://trello.com/b/nXdTl8OF/saciva-university-recommendation-system-2b) | [Google Drive](https://drive.google.com/drive/folders/1Psq7fGf3CNVNYAeFybnAVz_SMj8Py3TY) | [Github Repo](https://github.com/saciva-team-2b/Saciva-University-Recommendation-System-2B)\n",
        "\n",
        "---\n",
        "\n",
        "### **Challenge Summary**\n",
        "Suggest top 5 Higher Education universities to a student by matching student's with the universities' profile. Student Profile: Current Education level, Field of study, Chosen research, entrepreneurship, and financial status. University Profile: location (climate, cost of living), the field, overall ranking, fees and tuition, other factors.\n",
        "\n",
        "### **Context / Impact**\n",
        "Saciva is an app for Students, especially international students to help through their higher education journey and choosing a university is the first step and often research on academics and tuition and over look factors such as climate, opportunities after in their field, cost of living, safety, etc. before they take admission.\n",
        "\n",
        "### **Suggested Approach**\n",
        "The student's profile can be vectorized to find the nearest data (unsupervised learning) to suggest the 5 most suitable universities to the student."
      ]
    },
    {
      "cell_type": "markdown",
      "metadata": {
        "id": "wksi--tkv1DK"
      },
      "source": [
        "## **Data Exploration and Analysis**\n",
        "\n"
      ]
    },
    {
      "cell_type": "markdown",
      "metadata": {
        "id": "kuHz3aonxZUe"
      },
      "source": [
        "1. World University Rankings (2019)\n",
        "2. College Scorecard (2024)\n",
        "3. College Scorecard Most Recent Institution-Level Data (2024)\n",
        "4. College Scorecard Most Recent Data by Field of Study (2024)\n",
        "5. Campus Safety and Security (2023)\n",
        "6. Cost of Living Index (2021)"
      ]
    },
    {
      "cell_type": "code",
      "execution_count": null,
      "metadata": {
        "id": "TNuXH8FZxXlG"
      },
      "outputs": [],
      "source": [
        "import pandas as pd\n",
        "\n",
        "pd.read_csv('/datasets/WorldUniversityRankings2019/timesData.csv')"
      ]
    },
    {
      "cell_type": "markdown",
      "metadata": {
        "id": "K4DazryyyGpl"
      },
      "source": []
    },
    {
      "cell_type": "markdown",
      "metadata": {
        "id": "4TtUR7xTxyDV"
      },
      "source": [
        "Next, we shall import some standard ML libraries, and import more as we need."
      ]
    },
    {
      "cell_type": "code",
      "execution_count": null,
      "metadata": {
        "id": "F9ptVy32xxTf"
      },
      "outputs": [],
      "source": []
    },
    {
      "cell_type": "markdown",
      "metadata": {
        "id": "8HmN1FUl2vt_"
      },
      "source": [
        "\n",
        "\n",
        "---\n",
        "\n",
        "\n",
        "### GitHub Commands\n"
      ]
    }
  ],
  "metadata": {
    "colab": {
      "include_colab_link": true,
      "provenance": []
    },
    "kernelspec": {
      "display_name": "Python 3",
      "name": "python3"
    },
    "language_info": {
      "name": "python",
      "version": "3.12.1"
    }
  },
  "nbformat": 4,
  "nbformat_minor": 0
}
