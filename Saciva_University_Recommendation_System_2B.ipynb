{
  "nbformat": 4,
  "nbformat_minor": 0,
  "metadata": {
    "colab": {
      "provenance": [],
      "include_colab_link": true
    },
    "kernelspec": {
      "name": "python3",
      "display_name": "Python 3"
    },
    "language_info": {
      "name": "python"
    }
  },
  "cells": [
    {
      "cell_type": "markdown",
      "metadata": {
        "id": "view-in-github",
        "colab_type": "text"
      },
      "source": [
        "<a href=\"https://colab.research.google.com/github/saciva-team-2b/Saciva-University-Recommendation-System-2B/blob/main/Saciva_University_Recommendation_System_2B.ipynb\" target=\"_parent\"><img src=\"https://colab.research.google.com/assets/colab-badge.svg\" alt=\"Open In Colab\"/></a>"
      ]
    },
    {
      "cell_type": "markdown",
      "source": [
        "# **Saciva University Recommendation System 2B**"
      ],
      "metadata": {
        "id": "diijdWiX_6I6"
      }
    },
    {
      "cell_type": "markdown",
      "source": [
        "\n",
        "\n",
        "---\n",
        "\n",
        "\n",
        "**Resources and Documents:**  \n",
        "[Trello Board](https://trello.com/b/nXdTl8OF/saciva-university-recommendation-system-2b) | [Google Drive](https://drive.google.com/drive/folders/1Psq7fGf3CNVNYAeFybnAVz_SMj8Py3TY) | [Github Repo](https://github.com/saciva-team-2b/Saciva-University-Recommendation-System-2B)\n",
        "\n",
        "---\n",
        "\n",
        "### **Challenge Summary**\n",
        "Suggest top 5 Higher Education universities to a student by matching student's with the universities' profile. Student Profile: Current Education level, Field of study, Chosen research, entrepreneurship, and financial status. University Profile: location (climate, cost of living), the field, overall ranking, fees and tuition, other factors.\n",
        "\n",
        "### **Context / Impact**\n",
        "Saciva is an app for Students, especially international students to help through their higher education journey and choosing a university is the first step and often research on academics and tuition and over look factors such as climate, opportunities after in their field, cost of living, safety, etc. before they take admission.\n",
        "\n",
        "### **Suggested Approach**\n",
        "The student's profile can be vectorized to find the nearest data (unsupervised learning) to suggest the 5 most suitable universities to the student."
      ],
      "metadata": {
        "id": "nqryR7MowCEx"
      }
    },
    {
      "cell_type": "markdown",
      "source": [],
      "metadata": {
        "id": "gzm0Yp0PEsSy"
      }
    },
    {
      "cell_type": "code",
      "source": [
        "from google.colab import userdata\n",
        "\n",
        "!git config --global user.email \"sacivateamb@gmail.com\"\n",
        "!git config --global user.name \"saciva-team-2b\"\n",
        "!git config --global user.password {userdata.get('githubpass')}\n",
        "\n",
        "token = {userdata.get('githubtoken')}\n",
        "username = \"saciva-team-2b\"\n",
        "repo = \"Saciva-University-Recommendation-System-2B\""
      ],
      "metadata": {
        "id": "sVihdX9Y1cD3"
      },
      "execution_count": 23,
      "outputs": []
    },
    {
      "cell_type": "code",
      "source": [
        "!git clone https://{token}@github.com/{username}/{repo}"
      ],
      "metadata": {
        "colab": {
          "base_uri": "https://localhost:8080/"
        },
        "id": "JnltuJGCDusI",
        "outputId": "6cd420cc-f4a4-4d6f-d6ec-975d323d8604"
      },
      "execution_count": 24,
      "outputs": [
        {
          "output_type": "stream",
          "name": "stdout",
          "text": [
            "Cloning into 'Saciva-University-Recommendation-System-2B'...\n",
            "remote: Enumerating objects: 15, done.\u001b[K\n",
            "remote: Counting objects: 100% (15/15), done.\u001b[K\n",
            "remote: Compressing objects: 100% (13/13), done.\u001b[K\n",
            "remote: Total 15 (delta 5), reused 6 (delta 1), pack-reused 0 (from 0)\u001b[K\n",
            "Receiving objects: 100% (15/15), 4.38 KiB | 4.38 MiB/s, done.\n",
            "Resolving deltas: 100% (5/5), done.\n"
          ]
        }
      ]
    },
    {
      "cell_type": "markdown",
      "source": [
        "## **Data Exploration and Analysis**\n",
        "\n"
      ],
      "metadata": {
        "id": "wksi--tkv1DK"
      }
    },
    {
      "cell_type": "markdown",
      "source": [
        "First, we shall import all the required datasets. This includes:  \n",
        "1. a\n",
        "2. b\n",
        "3. c"
      ],
      "metadata": {
        "id": "kuHz3aonxZUe"
      }
    },
    {
      "cell_type": "code",
      "source": [
        "# code starts here"
      ],
      "metadata": {
        "id": "TNuXH8FZxXlG"
      },
      "execution_count": null,
      "outputs": []
    },
    {
      "cell_type": "markdown",
      "source": [],
      "metadata": {
        "id": "K4DazryyyGpl"
      }
    },
    {
      "cell_type": "markdown",
      "source": [
        "Next, we shall import some standard ML libraries, and import more as we need."
      ],
      "metadata": {
        "id": "4TtUR7xTxyDV"
      }
    },
    {
      "cell_type": "code",
      "source": [],
      "metadata": {
        "id": "F9ptVy32xxTf"
      },
      "execution_count": null,
      "outputs": []
    },
    {
      "cell_type": "markdown",
      "source": [
        "\n",
        "\n",
        "---\n",
        "\n",
        "\n",
        "### GitHub Commands\n"
      ],
      "metadata": {
        "id": "8HmN1FUl2vt_"
      }
    },
    {
      "cell_type": "code",
      "source": [
        "%ls\n",
        "!git add --all"
      ],
      "metadata": {
        "colab": {
          "base_uri": "https://localhost:8080/"
        },
        "id": "uwO1_wK6_6OD",
        "outputId": "8cb145c3-ec46-4d75-9c87-7582b94ba462"
      },
      "execution_count": null,
      "outputs": [
        {
          "output_type": "stream",
          "name": "stdout",
          "text": [
            " LICENSE   README.md  'Saciva University Recommendation System 2B.ipynb'\n"
          ]
        }
      ]
    },
    {
      "cell_type": "code",
      "source": [
        "!git status"
      ],
      "metadata": {
        "colab": {
          "base_uri": "https://localhost:8080/"
        },
        "id": "dxth8qin_1Pn",
        "outputId": "6e7f2780-82c5-4c20-b236-f1ce0872d43a"
      },
      "execution_count": null,
      "outputs": [
        {
          "output_type": "stream",
          "name": "stdout",
          "text": [
            "On branch main\n",
            "Your branch is up to date with 'origin/main'.\n",
            "\n",
            "nothing to commit, working tree clean\n"
          ]
        }
      ]
    },
    {
      "cell_type": "code",
      "source": [
        "!git commit -a -m \"Setup Data Exploration and Analysis\"\n",
        "!git push origin master"
      ],
      "metadata": {
        "id": "XymYfti7xxPn",
        "colab": {
          "base_uri": "https://localhost:8080/"
        },
        "outputId": "1aaffdf2-a2bc-471e-e67f-10c4fcf0aaef"
      },
      "execution_count": null,
      "outputs": [
        {
          "output_type": "stream",
          "name": "stdout",
          "text": [
            "On branch main\n",
            "Your branch is up to date with 'origin/main'.\n",
            "\n",
            "nothing to commit, working tree clean\n",
            "error: src refspec master does not match any\n",
            "\u001b[31merror: failed to push some refs to 'https://github.com/saciva-team-2b/Saciva-University-Recommendation-System-2B'\n",
            "\u001b[m"
          ]
        }
      ]
    }
  ]
}