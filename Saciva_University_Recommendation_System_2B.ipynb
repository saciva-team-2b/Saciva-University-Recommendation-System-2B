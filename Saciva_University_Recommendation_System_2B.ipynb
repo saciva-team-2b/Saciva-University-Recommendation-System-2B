{
  "cells": [
    {
      "cell_type": "markdown",
      "metadata": {
        "colab_type": "text",
        "id": "view-in-github"
      },
      "source": [
        "<a href=\"https://colab.research.google.com/github/saciva-team-2b/Saciva-University-Recommendation-System-2B/blob/main/Saciva_University_Recommendation_System_2B.ipynb\" target=\"_parent\"><img src=\"https://colab.research.google.com/assets/colab-badge.svg\" alt=\"Open In Colab\"/></a>"
      ]
    },
    {
      "cell_type": "markdown",
      "metadata": {
        "id": "diijdWiX_6I6"
      },
      "source": [
        "# **Saciva University Recommendation System 2B**"
      ]
    },
    {
      "cell_type": "markdown",
      "metadata": {
        "id": "nqryR7MowCEx"
      },
      "source": [
        "\n",
        "\n",
        "---\n",
        "\n",
        "\n",
        "**Resources and Documents:**  \n",
        "[Trello Board](https://trello.com/b/nXdTl8OF/saciva-university-recommendation-system-2b) | [Google Drive](https://drive.google.com/drive/folders/1Psq7fGf3CNVNYAeFybnAVz_SMj8Py3TY) | [Github Repo](https://github.com/saciva-team-2b/Saciva-University-Recommendation-System-2B)\n",
        "\n",
        "---\n",
        "\n",
        "### **Challenge Summary**\n",
        "Suggest top 5 Higher Education universities to a student by matching student's with the universities' profile. Student Profile: Current Education level, Field of study, Chosen research, entrepreneurship, and financial status. University Profile: location (climate, cost of living), the field, overall ranking, fees and tuition, other factors.\n",
        "\n",
        "### **Context / Impact**\n",
        "Saciva is an app for Students, especially international students to help through their higher education journey and choosing a university is the first step and often research on academics and tuition and over look factors such as climate, opportunities after in their field, cost of living, safety, etc. before they take admission.\n",
        "\n",
        "### **Suggested Approach**\n",
        "The student's profile can be vectorized to find the nearest data (unsupervised learning) to suggest the 5 most suitable universities to the student."
      ]
    },
    {
      "cell_type": "markdown",
      "metadata": {
        "id": "wksi--tkv1DK"
      },
      "source": [
        "## **Data Exploration and Analysis**\n",
        "\n"
      ]
    },
    {
      "cell_type": "markdown",
      "metadata": {
        "id": "kuHz3aonxZUe"
      },
      "source": [
        "1. World University Rankings (2019)\n",
        "2. College Scorecard (2024)\n",
        "3. College Scorecard Most Recent Institution-Level Data (2024)\n",
        "4. College Scorecard Most Recent Data by Field of Study (2024)\n",
        "5. Campus Safety and Security (2023)\n",
        "6. Cost of Living Index (2021)"
      ]
    },
    {
      "cell_type": "code",
      "execution_count": 7,
      "metadata": {
        "id": "TNuXH8FZxXlG"
      },
      "outputs": [
        {
          "data": {
            "text/html": [
              "<div>\n",
              "<style scoped>\n",
              "    .dataframe tbody tr th:only-of-type {\n",
              "        vertical-align: middle;\n",
              "    }\n",
              "\n",
              "    .dataframe tbody tr th {\n",
              "        vertical-align: top;\n",
              "    }\n",
              "\n",
              "    .dataframe thead th {\n",
              "        text-align: right;\n",
              "    }\n",
              "</style>\n",
              "<table border=\"1\" class=\"dataframe\">\n",
              "  <thead>\n",
              "    <tr style=\"text-align: right;\">\n",
              "      <th></th>\n",
              "      <th>world_rank</th>\n",
              "      <th>university_name</th>\n",
              "      <th>country</th>\n",
              "      <th>teaching</th>\n",
              "      <th>international</th>\n",
              "      <th>research</th>\n",
              "      <th>citations</th>\n",
              "      <th>income</th>\n",
              "      <th>total_score</th>\n",
              "      <th>num_students</th>\n",
              "      <th>student_staff_ratio</th>\n",
              "      <th>international_students</th>\n",
              "      <th>female_male_ratio</th>\n",
              "      <th>year</th>\n",
              "    </tr>\n",
              "  </thead>\n",
              "  <tbody>\n",
              "    <tr>\n",
              "      <th>0</th>\n",
              "      <td>1</td>\n",
              "      <td>Harvard University</td>\n",
              "      <td>United States of America</td>\n",
              "      <td>99.7</td>\n",
              "      <td>72.4</td>\n",
              "      <td>98.7</td>\n",
              "      <td>98.8</td>\n",
              "      <td>34.5</td>\n",
              "      <td>96.1</td>\n",
              "      <td>20,152</td>\n",
              "      <td>8.9</td>\n",
              "      <td>25%</td>\n",
              "      <td>NaN</td>\n",
              "      <td>2011</td>\n",
              "    </tr>\n",
              "    <tr>\n",
              "      <th>1</th>\n",
              "      <td>2</td>\n",
              "      <td>California Institute of Technology</td>\n",
              "      <td>United States of America</td>\n",
              "      <td>97.7</td>\n",
              "      <td>54.6</td>\n",
              "      <td>98.0</td>\n",
              "      <td>99.9</td>\n",
              "      <td>83.7</td>\n",
              "      <td>96.0</td>\n",
              "      <td>2,243</td>\n",
              "      <td>6.9</td>\n",
              "      <td>27%</td>\n",
              "      <td>33 : 67</td>\n",
              "      <td>2011</td>\n",
              "    </tr>\n",
              "    <tr>\n",
              "      <th>2</th>\n",
              "      <td>3</td>\n",
              "      <td>Massachusetts Institute of Technology</td>\n",
              "      <td>United States of America</td>\n",
              "      <td>97.8</td>\n",
              "      <td>82.3</td>\n",
              "      <td>91.4</td>\n",
              "      <td>99.9</td>\n",
              "      <td>87.5</td>\n",
              "      <td>95.6</td>\n",
              "      <td>11,074</td>\n",
              "      <td>9.0</td>\n",
              "      <td>33%</td>\n",
              "      <td>37 : 63</td>\n",
              "      <td>2011</td>\n",
              "    </tr>\n",
              "    <tr>\n",
              "      <th>3</th>\n",
              "      <td>4</td>\n",
              "      <td>Stanford University</td>\n",
              "      <td>United States of America</td>\n",
              "      <td>98.3</td>\n",
              "      <td>29.5</td>\n",
              "      <td>98.1</td>\n",
              "      <td>99.2</td>\n",
              "      <td>64.3</td>\n",
              "      <td>94.3</td>\n",
              "      <td>15,596</td>\n",
              "      <td>7.8</td>\n",
              "      <td>22%</td>\n",
              "      <td>42 : 58</td>\n",
              "      <td>2011</td>\n",
              "    </tr>\n",
              "    <tr>\n",
              "      <th>4</th>\n",
              "      <td>5</td>\n",
              "      <td>Princeton University</td>\n",
              "      <td>United States of America</td>\n",
              "      <td>90.9</td>\n",
              "      <td>70.3</td>\n",
              "      <td>95.4</td>\n",
              "      <td>99.9</td>\n",
              "      <td>-</td>\n",
              "      <td>94.2</td>\n",
              "      <td>7,929</td>\n",
              "      <td>8.4</td>\n",
              "      <td>27%</td>\n",
              "      <td>45 : 55</td>\n",
              "      <td>2011</td>\n",
              "    </tr>\n",
              "  </tbody>\n",
              "</table>\n",
              "</div>"
            ],
            "text/plain": [
              "  world_rank                        university_name                   country  \\\n",
              "0          1                     Harvard University  United States of America   \n",
              "1          2     California Institute of Technology  United States of America   \n",
              "2          3  Massachusetts Institute of Technology  United States of America   \n",
              "3          4                    Stanford University  United States of America   \n",
              "4          5                   Princeton University  United States of America   \n",
              "\n",
              "   teaching international  research  citations income total_score  \\\n",
              "0      99.7          72.4      98.7       98.8   34.5        96.1   \n",
              "1      97.7          54.6      98.0       99.9   83.7        96.0   \n",
              "2      97.8          82.3      91.4       99.9   87.5        95.6   \n",
              "3      98.3          29.5      98.1       99.2   64.3        94.3   \n",
              "4      90.9          70.3      95.4       99.9      -        94.2   \n",
              "\n",
              "  num_students  student_staff_ratio international_students female_male_ratio  \\\n",
              "0       20,152                  8.9                    25%               NaN   \n",
              "1        2,243                  6.9                    27%           33 : 67   \n",
              "2       11,074                  9.0                    33%           37 : 63   \n",
              "3       15,596                  7.8                    22%           42 : 58   \n",
              "4        7,929                  8.4                    27%           45 : 55   \n",
              "\n",
              "   year  \n",
              "0  2011  \n",
              "1  2011  \n",
              "2  2011  \n",
              "3  2011  \n",
              "4  2011  "
            ]
          },
          "execution_count": 7,
          "metadata": {},
          "output_type": "execute_result"
        }
      ],
      "source": [
        "import pandas as pd\n",
        "\n",
        "timesData = pd.read_csv('datasets/WorldUniversityRankings2019/timesData.csv')\n",
        "timesData.head()"
      ]
    },
    {
      "cell_type": "markdown",
      "metadata": {
        "id": "K4DazryyyGpl"
      },
      "source": []
    },
    {
      "cell_type": "markdown",
      "metadata": {
        "id": "4TtUR7xTxyDV"
      },
      "source": [
        "Next, we shall import some standard ML libraries, and import more as we need."
      ]
    },
    {
      "cell_type": "code",
      "execution_count": null,
      "metadata": {
        "id": "F9ptVy32xxTf"
      },
      "outputs": [],
      "source": []
    },
    {
      "cell_type": "markdown",
      "metadata": {
        "id": "8HmN1FUl2vt_"
      },
      "source": [
        "\n",
        "\n",
        "---\n",
        "\n",
        "\n",
        "### GitHub Commands\n"
      ]
    }
  ],
  "metadata": {
    "colab": {
      "include_colab_link": true,
      "provenance": []
    },
    "kernelspec": {
      "display_name": "Python 3",
      "name": "python3"
    },
    "language_info": {
      "codemirror_mode": {
        "name": "ipython",
        "version": 3
      },
      "file_extension": ".py",
      "mimetype": "text/x-python",
      "name": "python",
      "nbconvert_exporter": "python",
      "pygments_lexer": "ipython3",
      "version": "3.12.1"
    }
  },
  "nbformat": 4,
  "nbformat_minor": 0
}
