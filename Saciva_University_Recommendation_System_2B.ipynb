{
  "nbformat": 4,
  "nbformat_minor": 0,
  "metadata": {
    "colab": {
      "provenance": [],
      "toc_visible": true,
      "include_colab_link": true
    },
    "kernelspec": {
      "name": "python3",
      "display_name": "Python 3"
    },
    "language_info": {
      "name": "python"
    }
  },
  "cells": [
    {
      "cell_type": "markdown",
      "metadata": {
        "id": "view-in-github",
        "colab_type": "text"
      },
      "source": [
        "<a href=\"https://colab.research.google.com/github/wwidjaja0/Saciva-University-Recommendation-System-2B/blob/main/Saciva_University_Recommendation_System_2B.ipynb\" target=\"_parent\"><img src=\"https://colab.research.google.com/assets/colab-badge.svg\" alt=\"Open In Colab\"/></a>"
      ]
    },
    {
      "cell_type": "markdown",
      "source": [
        "# **Saciva University Recommendation System 2B**"
      ],
      "metadata": {
        "id": "diijdWiX_6I6"
      }
    },
    {
      "cell_type": "markdown",
      "source": [
        "\n",
        "\n",
        "---\n",
        "\n",
        "\n",
        "**Resources and Documents:**  \n",
        "[Trello Board](https://trello.com/b/nXdTl8OF/saciva-university-recommendation-system-2b) | [Google Drive](https://drive.google.com/drive/folders/1Psq7fGf3CNVNYAeFybnAVz_SMj8Py3TY) | [Github Repo](https://github.com/wwidjaja0/Saciva-University-Recommendation-System-2B)\n",
        "\n",
        "---\n",
        "\n",
        "### **Challenge Summary**\n",
        "Suggest top 5 Higher Education universities to a student by matching student's with the universities' profile. Student Profile: Current Education level, Field of study, Chosen research, entrepreneurship, and financial status. University Profile: location (climate, cost of living), the field, overall ranking, fees and tuition, other factors.\n",
        "\n",
        "### **Context / Impact**\n",
        "Saciva is an app for Students, especially international students to help through their higher education journey and choosing a university is the first step and often research on academics and tuition and over look factors such as climate, opportunities after in their field, cost of living, safety, etc. before they take admission.\n",
        "\n",
        "### **Suggested Approach**\n",
        "The student's profile can be vectorized to find the nearest data (unsupervised learning) to suggest the 5 most suitable universities to the student."
      ],
      "metadata": {
        "id": "nqryR7MowCEx"
      }
    },
    {
      "cell_type": "markdown",
      "source": [
        "## **Data Exploration and Analysis**\n",
        "\n"
      ],
      "metadata": {
        "id": "wksi--tkv1DK"
      }
    },
    {
      "cell_type": "markdown",
      "source": [
        "First, we shall import all the required datasets. This includes:  \n",
        "1. a\n",
        "2. b\n",
        "3. c"
      ],
      "metadata": {
        "id": "kuHz3aonxZUe"
      }
    },
    {
      "cell_type": "code",
      "source": [
        "# code starts here"
      ],
      "metadata": {
        "id": "TNuXH8FZxXlG"
      },
      "execution_count": null,
      "outputs": []
    },
    {
      "cell_type": "markdown",
      "source": [],
      "metadata": {
        "id": "K4DazryyyGpl"
      }
    },
    {
      "cell_type": "markdown",
      "source": [
        "Next, we shall import some standard ML libraries, and import more as we need."
      ],
      "metadata": {
        "id": "4TtUR7xTxyDV"
      }
    },
    {
      "cell_type": "code",
      "source": [],
      "metadata": {
        "id": "F9ptVy32xxTf"
      },
      "execution_count": null,
      "outputs": []
    },
    {
      "cell_type": "code",
      "source": [],
      "metadata": {
        "id": "XymYfti7xxPn"
      },
      "execution_count": null,
      "outputs": []
    },
    {
      "cell_type": "code",
      "source": [],
      "metadata": {
        "id": "zO20EtKcxxN4"
      },
      "execution_count": null,
      "outputs": []
    }
  ]
}