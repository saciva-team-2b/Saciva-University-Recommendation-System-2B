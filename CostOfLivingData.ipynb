{
 "cells": [
  {
   "cell_type": "markdown",
   "metadata": {},
   "source": [
    "# **Cost of Living Data**"
   ]
  },
  {
   "cell_type": "markdown",
   "metadata": {},
   "source": [
    "## **Data Exploration and Analysis**\n",
    "\n"
   ]
  },
  {
   "cell_type": "code",
   "execution_count": 8,
   "metadata": {},
   "outputs": [],
   "source": [
    "import os\n",
    "import pandas as pd\n",
    "import numpy as np\n",
    "import matplotlib.pyplot as plt\n",
    "%matplotlib inline\n",
    "import seaborn as sns\n",
    "from sklearn.preprocessing import LabelEncoder"
   ]
  },
  {
   "cell_type": "code",
   "execution_count": 3,
   "metadata": {},
   "outputs": [
    {
     "data": {
      "text/plain": [
       "['City', 'State', 'Cost of Living Index']"
      ]
     },
     "execution_count": 3,
     "metadata": {},
     "output_type": "execute_result"
    }
   ],
   "source": [
    "costOfLivingFilepath = os.path.join(os.getcwd(), 'datasets', 'CostOfLivingIndex2021.csv')\n",
    "\n",
    "costOfLivingDF = pd.read_csv(costOfLivingFilepath, low_memory=False)\n",
    "costOfLivingDF.columns.to_list()"
   ]
  },
  {
   "cell_type": "markdown",
   "metadata": {},
   "source": [
    "### 1. Check for missing values ###"
   ]
  },
  {
   "cell_type": "code",
   "execution_count": 4,
   "metadata": {},
   "outputs": [
    {
     "data": {
      "text/plain": [
       "City                    0\n",
       "State                   0\n",
       "Cost of Living Index    0\n",
       "dtype: int64"
      ]
     },
     "execution_count": 4,
     "metadata": {},
     "output_type": "execute_result"
    }
   ],
   "source": [
    "costOfLivingDF.isnull().sum()"
   ]
  },
  {
   "cell_type": "markdown",
   "metadata": {},
   "source": [
    "#### 2. Formatting Data ####\n",
    "- City and State are categorical variables and need to be encoded\n",
    "- The Cost of Living Index is numerical and should be treated as a continuous feature"
   ]
  },
  {
   "cell_type": "markdown",
   "metadata": {},
   "source": [
    "#### 3. Feature Engineering ####\n",
    "Combine City and State into one feature as Location"
   ]
  },
  {
   "cell_type": "code",
   "execution_count": 5,
   "metadata": {},
   "outputs": [],
   "source": [
    "costOfLivingDF['Location'] = costOfLivingDF['City'] + \", \" + costOfLivingDF['State']"
   ]
  },
  {
   "cell_type": "code",
   "execution_count": 6,
   "metadata": {},
   "outputs": [
    {
     "data": {
      "text/plain": [
       "0         Abilene, TX\n",
       "1          Adrian, MI\n",
       "2           Akron, OH\n",
       "3      Alamogordo, NM\n",
       "4          Albany, GA\n",
       "            ...      \n",
       "505      Wheeling, WV\n",
       "506    New London, CT\n",
       "507        Daphne, AL\n",
       "508      Victoria, TX\n",
       "509      Aberdeen, WA\n",
       "Name: Location, Length: 510, dtype: object"
      ]
     },
     "execution_count": 6,
     "metadata": {},
     "output_type": "execute_result"
    }
   ],
   "source": [
    "costOfLivingDF['Location']"
   ]
  },
  {
   "cell_type": "markdown",
   "metadata": {},
   "source": [
    "#### 4. Convert Categorical Features ####\n",
    "Location is a categorial variable so we need to one-hot encode or label encode into numerical format"
   ]
  },
  {
   "cell_type": "code",
   "execution_count": 9,
   "metadata": {},
   "outputs": [],
   "source": [
    "# Label encoding\n",
    "label_encoder = LabelEncoder()\n",
    "costOfLivingDF['Location_encoded'] = label_encoder.fit_transform(costOfLivingDF['Location'])"
   ]
  },
  {
   "cell_type": "code",
   "execution_count": 12,
   "metadata": {},
   "outputs": [
    {
     "data": {
      "text/html": [
       "<div>\n",
       "<style scoped>\n",
       "    .dataframe tbody tr th:only-of-type {\n",
       "        vertical-align: middle;\n",
       "    }\n",
       "\n",
       "    .dataframe tbody tr th {\n",
       "        vertical-align: top;\n",
       "    }\n",
       "\n",
       "    .dataframe thead th {\n",
       "        text-align: right;\n",
       "    }\n",
       "</style>\n",
       "<table border=\"1\" class=\"dataframe\">\n",
       "  <thead>\n",
       "    <tr style=\"text-align: right;\">\n",
       "      <th></th>\n",
       "      <th>City</th>\n",
       "      <th>State</th>\n",
       "      <th>Cost of Living Index</th>\n",
       "      <th>Location</th>\n",
       "      <th>Location_encoded</th>\n",
       "    </tr>\n",
       "  </thead>\n",
       "  <tbody>\n",
       "    <tr>\n",
       "      <th>0</th>\n",
       "      <td>Abilene</td>\n",
       "      <td>TX</td>\n",
       "      <td>89.1</td>\n",
       "      <td>Abilene, TX</td>\n",
       "      <td>1</td>\n",
       "    </tr>\n",
       "    <tr>\n",
       "      <th>1</th>\n",
       "      <td>Adrian</td>\n",
       "      <td>MI</td>\n",
       "      <td>90.5</td>\n",
       "      <td>Adrian, MI</td>\n",
       "      <td>2</td>\n",
       "    </tr>\n",
       "    <tr>\n",
       "      <th>2</th>\n",
       "      <td>Akron</td>\n",
       "      <td>OH</td>\n",
       "      <td>89.4</td>\n",
       "      <td>Akron, OH</td>\n",
       "      <td>3</td>\n",
       "    </tr>\n",
       "    <tr>\n",
       "      <th>3</th>\n",
       "      <td>Alamogordo</td>\n",
       "      <td>NM</td>\n",
       "      <td>85.8</td>\n",
       "      <td>Alamogordo, NM</td>\n",
       "      <td>4</td>\n",
       "    </tr>\n",
       "    <tr>\n",
       "      <th>4</th>\n",
       "      <td>Albany</td>\n",
       "      <td>GA</td>\n",
       "      <td>87.3</td>\n",
       "      <td>Albany, GA</td>\n",
       "      <td>5</td>\n",
       "    </tr>\n",
       "    <tr>\n",
       "      <th>5</th>\n",
       "      <td>Albany</td>\n",
       "      <td>OR</td>\n",
       "      <td>105.4</td>\n",
       "      <td>Albany, OR</td>\n",
       "      <td>7</td>\n",
       "    </tr>\n",
       "    <tr>\n",
       "      <th>6</th>\n",
       "      <td>Albany</td>\n",
       "      <td>NY</td>\n",
       "      <td>100.1</td>\n",
       "      <td>Albany, NY</td>\n",
       "      <td>6</td>\n",
       "    </tr>\n",
       "    <tr>\n",
       "      <th>7</th>\n",
       "      <td>Albertville</td>\n",
       "      <td>AL</td>\n",
       "      <td>90.9</td>\n",
       "      <td>Albertville, AL</td>\n",
       "      <td>8</td>\n",
       "    </tr>\n",
       "    <tr>\n",
       "      <th>8</th>\n",
       "      <td>Albuquerque</td>\n",
       "      <td>NM</td>\n",
       "      <td>92.9</td>\n",
       "      <td>Albuquerque, NM</td>\n",
       "      <td>9</td>\n",
       "    </tr>\n",
       "    <tr>\n",
       "      <th>9</th>\n",
       "      <td>Alexandria</td>\n",
       "      <td>LA</td>\n",
       "      <td>86.2</td>\n",
       "      <td>Alexandria, LA</td>\n",
       "      <td>10</td>\n",
       "    </tr>\n",
       "  </tbody>\n",
       "</table>\n",
       "</div>"
      ],
      "text/plain": [
       "          City State  Cost of Living Index         Location  Location_encoded\n",
       "0      Abilene    TX                  89.1      Abilene, TX                 1\n",
       "1       Adrian    MI                  90.5       Adrian, MI                 2\n",
       "2        Akron    OH                  89.4        Akron, OH                 3\n",
       "3   Alamogordo    NM                  85.8   Alamogordo, NM                 4\n",
       "4       Albany    GA                  87.3       Albany, GA                 5\n",
       "5       Albany    OR                 105.4       Albany, OR                 7\n",
       "6       Albany    NY                 100.1       Albany, NY                 6\n",
       "7  Albertville    AL                  90.9  Albertville, AL                 8\n",
       "8  Albuquerque    NM                  92.9  Albuquerque, NM                 9\n",
       "9   Alexandria    LA                  86.2   Alexandria, LA                10"
      ]
     },
     "execution_count": 12,
     "metadata": {},
     "output_type": "execute_result"
    }
   ],
   "source": [
    "costOfLivingDF.head(10)"
   ]
  },
  {
   "cell_type": "code",
   "execution_count": null,
   "metadata": {},
   "outputs": [],
   "source": []
  }
 ],
 "metadata": {
  "kernelspec": {
   "display_name": "Python 3",
   "language": "python",
   "name": "python3"
  },
  "language_info": {
   "codemirror_mode": {
    "name": "ipython",
    "version": 3
   },
   "file_extension": ".py",
   "mimetype": "text/x-python",
   "name": "python",
   "nbconvert_exporter": "python",
   "pygments_lexer": "ipython3",
   "version": "3.12.2"
  }
 },
 "nbformat": 4,
 "nbformat_minor": 2
}
